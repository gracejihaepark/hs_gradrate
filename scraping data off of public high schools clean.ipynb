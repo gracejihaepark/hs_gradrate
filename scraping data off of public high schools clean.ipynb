{
 "cells": [
  {
   "cell_type": "code",
   "execution_count": 105,
   "metadata": {},
   "outputs": [],
   "source": [
    "import requests\n",
    "from bs4 import BeautifulSoup as BS"
   ]
  },
  {
   "cell_type": "code",
   "execution_count": 106,
   "metadata": {},
   "outputs": [],
   "source": [
    "page = requests.get('https://data.nysed.gov/profile.php?instid=7889678368')\n",
    "soup = BS(page.content, 'html.parser')"
   ]
  },
  {
   "cell_type": "code",
   "execution_count": 107,
   "metadata": {},
   "outputs": [],
   "source": [
    "districts=soup.select('a[href^=\"profile.php?instid=\"]')"
   ]
  },
  {
   "cell_type": "code",
   "execution_count": 108,
   "metadata": {},
   "outputs": [],
   "source": [
    "links = [a['href'] for a in districts]\n"
   ]
  },
  {
   "cell_type": "code",
   "execution_count": 109,
   "metadata": {},
   "outputs": [],
   "source": [
    "full_links = []\n",
    "for thing in links:\n",
    "    full_links.append('https://data.nysed.gov/'+thing)"
   ]
  },
  {
   "cell_type": "code",
   "execution_count": 110,
   "metadata": {
    "collapsed": true
   },
   "outputs": [
    {
     "data": {
      "text/plain": [
       "['https://data.nysed.gov/profile.php?instid=800000048532',\n",
       " 'https://data.nysed.gov/profile.php?instid=800000048410',\n",
       " 'https://data.nysed.gov/profile.php?instid=800000047476',\n",
       " 'https://data.nysed.gov/profile.php?instid=800000047245',\n",
       " 'https://data.nysed.gov/profile.php?instid=800000047161',\n",
       " 'https://data.nysed.gov/profile.php?instid=800000047032',\n",
       " 'https://data.nysed.gov/profile.php?instid=800000046647',\n",
       " 'https://data.nysed.gov/profile.php?instid=800000046547',\n",
       " 'https://data.nysed.gov/profile.php?instid=800000046428',\n",
       " 'https://data.nysed.gov/profile.php?instid=800000046274',\n",
       " 'https://data.nysed.gov/profile.php?instid=800000046011',\n",
       " 'https://data.nysed.gov/profile.php?instid=800000045779',\n",
       " 'https://data.nysed.gov/profile.php?instid=800000045563',\n",
       " 'https://data.nysed.gov/profile.php?instid=800000045345',\n",
       " 'https://data.nysed.gov/profile.php?instid=800000045191',\n",
       " 'https://data.nysed.gov/profile.php?instid=800000044965',\n",
       " 'https://data.nysed.gov/profile.php?instid=800000044895',\n",
       " 'https://data.nysed.gov/profile.php?instid=800000044661',\n",
       " 'https://data.nysed.gov/profile.php?instid=800000044521',\n",
       " 'https://data.nysed.gov/profile.php?instid=800000044422',\n",
       " 'https://data.nysed.gov/profile.php?instid=800000044121',\n",
       " 'https://data.nysed.gov/profile.php?instid=800000043961',\n",
       " 'https://data.nysed.gov/profile.php?instid=800000043733',\n",
       " 'https://data.nysed.gov/profile.php?instid=800000043407',\n",
       " 'https://data.nysed.gov/profile.php?instid=800000043248',\n",
       " 'https://data.nysed.gov/profile.php?instid=800000043080',\n",
       " 'https://data.nysed.gov/profile.php?instid=800000042958',\n",
       " 'https://data.nysed.gov/profile.php?instid=800000042781',\n",
       " 'https://data.nysed.gov/profile.php?instid=800000042522',\n",
       " 'https://data.nysed.gov/profile.php?instid=800000042344',\n",
       " 'https://data.nysed.gov/profile.php?instid=800000042056',\n",
       " 'https://data.nysed.gov/profile.php?instid=800000043653',\n",
       " 'https://data.nysed.gov/profile.php?instid=800000057444']"
      ]
     },
     "execution_count": 110,
     "metadata": {},
     "output_type": "execute_result"
    }
   ],
   "source": [
    "#links for all the districts\n",
    "full_links"
   ]
  },
  {
   "cell_type": "code",
   "execution_count": 111,
   "metadata": {},
   "outputs": [],
   "source": [
    "#get all high school id's for the districts\n",
    "def get_high_school_ids (link):\n",
    "    page = requests.get(link)\n",
    "    soup = BS(page.content, 'html.parser')\n",
    "    high_schools=soup.select('a[href^=\"profile.php?instid=\"]')\n",
    "    high_schools_list = [a['href'] for a in high_schools]\n",
    "    high_school_ids = []\n",
    "    for item in high_schools_list:\n",
    "        thing=item.replace('profile.php?instid=','')\n",
    "        high_school_ids.append(thing)\n",
    "    return high_school_ids"
   ]
  },
  {
   "cell_type": "code",
   "execution_count": 112,
   "metadata": {
    "collapsed": true
   },
   "outputs": [
    {
     "ename": "KeyboardInterrupt",
     "evalue": "",
     "output_type": "error",
     "traceback": [
      "\u001b[0;31m---------------------------------------------------------------------------\u001b[0m",
      "\u001b[0;31mTypeError\u001b[0m                                 Traceback (most recent call last)",
      "\u001b[0;32m/anaconda3/lib/python3.7/site-packages/urllib3/connectionpool.py\u001b[0m in \u001b[0;36m_make_request\u001b[0;34m(self, conn, method, url, timeout, chunked, **httplib_request_kw)\u001b[0m\n\u001b[1;32m    376\u001b[0m             \u001b[0;32mtry\u001b[0m\u001b[0;34m:\u001b[0m  \u001b[0;31m# Python 2.7, use buffering of HTTP responses\u001b[0m\u001b[0;34m\u001b[0m\u001b[0;34m\u001b[0m\u001b[0m\n\u001b[0;32m--> 377\u001b[0;31m                 \u001b[0mhttplib_response\u001b[0m \u001b[0;34m=\u001b[0m \u001b[0mconn\u001b[0m\u001b[0;34m.\u001b[0m\u001b[0mgetresponse\u001b[0m\u001b[0;34m(\u001b[0m\u001b[0mbuffering\u001b[0m\u001b[0;34m=\u001b[0m\u001b[0;32mTrue\u001b[0m\u001b[0;34m)\u001b[0m\u001b[0;34m\u001b[0m\u001b[0;34m\u001b[0m\u001b[0m\n\u001b[0m\u001b[1;32m    378\u001b[0m             \u001b[0;32mexcept\u001b[0m \u001b[0mTypeError\u001b[0m\u001b[0;34m:\u001b[0m  \u001b[0;31m# Python 3\u001b[0m\u001b[0;34m\u001b[0m\u001b[0;34m\u001b[0m\u001b[0m\n",
      "\u001b[0;31mTypeError\u001b[0m: getresponse() got an unexpected keyword argument 'buffering'",
      "\nDuring handling of the above exception, another exception occurred:\n",
      "\u001b[0;31mKeyboardInterrupt\u001b[0m                         Traceback (most recent call last)",
      "\u001b[0;32m<ipython-input-112-6c9c4d1b697d>\u001b[0m in \u001b[0;36m<module>\u001b[0;34m\u001b[0m\n\u001b[1;32m      1\u001b[0m \u001b[0mall_high_schools\u001b[0m \u001b[0;34m=\u001b[0m \u001b[0;34m[\u001b[0m\u001b[0;34m]\u001b[0m\u001b[0;34m\u001b[0m\u001b[0;34m\u001b[0m\u001b[0m\n\u001b[1;32m      2\u001b[0m \u001b[0;32mfor\u001b[0m \u001b[0mitem\u001b[0m \u001b[0;32min\u001b[0m \u001b[0mfull_links\u001b[0m\u001b[0;34m:\u001b[0m\u001b[0;34m\u001b[0m\u001b[0;34m\u001b[0m\u001b[0m\n\u001b[0;32m----> 3\u001b[0;31m     \u001b[0mall_high_schools\u001b[0m\u001b[0;34m.\u001b[0m\u001b[0mextend\u001b[0m\u001b[0;34m(\u001b[0m\u001b[0mget_high_school_ids\u001b[0m \u001b[0;34m(\u001b[0m\u001b[0mitem\u001b[0m\u001b[0;34m)\u001b[0m\u001b[0;34m)\u001b[0m\u001b[0;34m\u001b[0m\u001b[0;34m\u001b[0m\u001b[0m\n\u001b[0m",
      "\u001b[0;32m<ipython-input-111-631b9b3731cd>\u001b[0m in \u001b[0;36mget_high_school_ids\u001b[0;34m(link)\u001b[0m\n\u001b[1;32m      1\u001b[0m \u001b[0;31m#get all high school id's for the districts\u001b[0m\u001b[0;34m\u001b[0m\u001b[0;34m\u001b[0m\u001b[0;34m\u001b[0m\u001b[0m\n\u001b[1;32m      2\u001b[0m \u001b[0;32mdef\u001b[0m \u001b[0mget_high_school_ids\u001b[0m \u001b[0;34m(\u001b[0m\u001b[0mlink\u001b[0m\u001b[0;34m)\u001b[0m\u001b[0;34m:\u001b[0m\u001b[0;34m\u001b[0m\u001b[0;34m\u001b[0m\u001b[0m\n\u001b[0;32m----> 3\u001b[0;31m     \u001b[0mpage\u001b[0m \u001b[0;34m=\u001b[0m \u001b[0mrequests\u001b[0m\u001b[0;34m.\u001b[0m\u001b[0mget\u001b[0m\u001b[0;34m(\u001b[0m\u001b[0mlink\u001b[0m\u001b[0;34m)\u001b[0m\u001b[0;34m\u001b[0m\u001b[0;34m\u001b[0m\u001b[0m\n\u001b[0m\u001b[1;32m      4\u001b[0m     \u001b[0msoup\u001b[0m \u001b[0;34m=\u001b[0m \u001b[0mBS\u001b[0m\u001b[0;34m(\u001b[0m\u001b[0mpage\u001b[0m\u001b[0;34m.\u001b[0m\u001b[0mcontent\u001b[0m\u001b[0;34m,\u001b[0m \u001b[0;34m'html.parser'\u001b[0m\u001b[0;34m)\u001b[0m\u001b[0;34m\u001b[0m\u001b[0;34m\u001b[0m\u001b[0m\n\u001b[1;32m      5\u001b[0m     \u001b[0mhigh_schools\u001b[0m\u001b[0;34m=\u001b[0m\u001b[0msoup\u001b[0m\u001b[0;34m.\u001b[0m\u001b[0mselect\u001b[0m\u001b[0;34m(\u001b[0m\u001b[0;34m'a[href^=\"profile.php?instid=\"]'\u001b[0m\u001b[0;34m)\u001b[0m\u001b[0;34m\u001b[0m\u001b[0;34m\u001b[0m\u001b[0m\n",
      "\u001b[0;32m/anaconda3/lib/python3.7/site-packages/requests/api.py\u001b[0m in \u001b[0;36mget\u001b[0;34m(url, params, **kwargs)\u001b[0m\n\u001b[1;32m     73\u001b[0m \u001b[0;34m\u001b[0m\u001b[0m\n\u001b[1;32m     74\u001b[0m     \u001b[0mkwargs\u001b[0m\u001b[0;34m.\u001b[0m\u001b[0msetdefault\u001b[0m\u001b[0;34m(\u001b[0m\u001b[0;34m'allow_redirects'\u001b[0m\u001b[0;34m,\u001b[0m \u001b[0;32mTrue\u001b[0m\u001b[0;34m)\u001b[0m\u001b[0;34m\u001b[0m\u001b[0;34m\u001b[0m\u001b[0m\n\u001b[0;32m---> 75\u001b[0;31m     \u001b[0;32mreturn\u001b[0m \u001b[0mrequest\u001b[0m\u001b[0;34m(\u001b[0m\u001b[0;34m'get'\u001b[0m\u001b[0;34m,\u001b[0m \u001b[0murl\u001b[0m\u001b[0;34m,\u001b[0m \u001b[0mparams\u001b[0m\u001b[0;34m=\u001b[0m\u001b[0mparams\u001b[0m\u001b[0;34m,\u001b[0m \u001b[0;34m**\u001b[0m\u001b[0mkwargs\u001b[0m\u001b[0;34m)\u001b[0m\u001b[0;34m\u001b[0m\u001b[0;34m\u001b[0m\u001b[0m\n\u001b[0m\u001b[1;32m     76\u001b[0m \u001b[0;34m\u001b[0m\u001b[0m\n\u001b[1;32m     77\u001b[0m \u001b[0;34m\u001b[0m\u001b[0m\n",
      "\u001b[0;32m/anaconda3/lib/python3.7/site-packages/requests/api.py\u001b[0m in \u001b[0;36mrequest\u001b[0;34m(method, url, **kwargs)\u001b[0m\n\u001b[1;32m     58\u001b[0m     \u001b[0;31m# cases, and look like a memory leak in others.\u001b[0m\u001b[0;34m\u001b[0m\u001b[0;34m\u001b[0m\u001b[0;34m\u001b[0m\u001b[0m\n\u001b[1;32m     59\u001b[0m     \u001b[0;32mwith\u001b[0m \u001b[0msessions\u001b[0m\u001b[0;34m.\u001b[0m\u001b[0mSession\u001b[0m\u001b[0;34m(\u001b[0m\u001b[0;34m)\u001b[0m \u001b[0;32mas\u001b[0m \u001b[0msession\u001b[0m\u001b[0;34m:\u001b[0m\u001b[0;34m\u001b[0m\u001b[0;34m\u001b[0m\u001b[0m\n\u001b[0;32m---> 60\u001b[0;31m         \u001b[0;32mreturn\u001b[0m \u001b[0msession\u001b[0m\u001b[0;34m.\u001b[0m\u001b[0mrequest\u001b[0m\u001b[0;34m(\u001b[0m\u001b[0mmethod\u001b[0m\u001b[0;34m=\u001b[0m\u001b[0mmethod\u001b[0m\u001b[0;34m,\u001b[0m \u001b[0murl\u001b[0m\u001b[0;34m=\u001b[0m\u001b[0murl\u001b[0m\u001b[0;34m,\u001b[0m \u001b[0;34m**\u001b[0m\u001b[0mkwargs\u001b[0m\u001b[0;34m)\u001b[0m\u001b[0;34m\u001b[0m\u001b[0;34m\u001b[0m\u001b[0m\n\u001b[0m\u001b[1;32m     61\u001b[0m \u001b[0;34m\u001b[0m\u001b[0m\n\u001b[1;32m     62\u001b[0m \u001b[0;34m\u001b[0m\u001b[0m\n",
      "\u001b[0;32m/anaconda3/lib/python3.7/site-packages/requests/sessions.py\u001b[0m in \u001b[0;36mrequest\u001b[0;34m(self, method, url, params, data, headers, cookies, files, auth, timeout, allow_redirects, proxies, hooks, stream, verify, cert, json)\u001b[0m\n\u001b[1;32m    531\u001b[0m         }\n\u001b[1;32m    532\u001b[0m         \u001b[0msend_kwargs\u001b[0m\u001b[0;34m.\u001b[0m\u001b[0mupdate\u001b[0m\u001b[0;34m(\u001b[0m\u001b[0msettings\u001b[0m\u001b[0;34m)\u001b[0m\u001b[0;34m\u001b[0m\u001b[0;34m\u001b[0m\u001b[0m\n\u001b[0;32m--> 533\u001b[0;31m         \u001b[0mresp\u001b[0m \u001b[0;34m=\u001b[0m \u001b[0mself\u001b[0m\u001b[0;34m.\u001b[0m\u001b[0msend\u001b[0m\u001b[0;34m(\u001b[0m\u001b[0mprep\u001b[0m\u001b[0;34m,\u001b[0m \u001b[0;34m**\u001b[0m\u001b[0msend_kwargs\u001b[0m\u001b[0;34m)\u001b[0m\u001b[0;34m\u001b[0m\u001b[0;34m\u001b[0m\u001b[0m\n\u001b[0m\u001b[1;32m    534\u001b[0m \u001b[0;34m\u001b[0m\u001b[0m\n\u001b[1;32m    535\u001b[0m         \u001b[0;32mreturn\u001b[0m \u001b[0mresp\u001b[0m\u001b[0;34m\u001b[0m\u001b[0;34m\u001b[0m\u001b[0m\n",
      "\u001b[0;32m/anaconda3/lib/python3.7/site-packages/requests/sessions.py\u001b[0m in \u001b[0;36msend\u001b[0;34m(self, request, **kwargs)\u001b[0m\n\u001b[1;32m    644\u001b[0m \u001b[0;34m\u001b[0m\u001b[0m\n\u001b[1;32m    645\u001b[0m         \u001b[0;31m# Send the request\u001b[0m\u001b[0;34m\u001b[0m\u001b[0;34m\u001b[0m\u001b[0;34m\u001b[0m\u001b[0m\n\u001b[0;32m--> 646\u001b[0;31m         \u001b[0mr\u001b[0m \u001b[0;34m=\u001b[0m \u001b[0madapter\u001b[0m\u001b[0;34m.\u001b[0m\u001b[0msend\u001b[0m\u001b[0;34m(\u001b[0m\u001b[0mrequest\u001b[0m\u001b[0;34m,\u001b[0m \u001b[0;34m**\u001b[0m\u001b[0mkwargs\u001b[0m\u001b[0;34m)\u001b[0m\u001b[0;34m\u001b[0m\u001b[0;34m\u001b[0m\u001b[0m\n\u001b[0m\u001b[1;32m    647\u001b[0m \u001b[0;34m\u001b[0m\u001b[0m\n\u001b[1;32m    648\u001b[0m         \u001b[0;31m# Total elapsed time of the request (approximately)\u001b[0m\u001b[0;34m\u001b[0m\u001b[0;34m\u001b[0m\u001b[0;34m\u001b[0m\u001b[0m\n",
      "\u001b[0;32m/anaconda3/lib/python3.7/site-packages/requests/adapters.py\u001b[0m in \u001b[0;36msend\u001b[0;34m(self, request, stream, timeout, verify, cert, proxies)\u001b[0m\n\u001b[1;32m    447\u001b[0m                     \u001b[0mdecode_content\u001b[0m\u001b[0;34m=\u001b[0m\u001b[0;32mFalse\u001b[0m\u001b[0;34m,\u001b[0m\u001b[0;34m\u001b[0m\u001b[0;34m\u001b[0m\u001b[0m\n\u001b[1;32m    448\u001b[0m                     \u001b[0mretries\u001b[0m\u001b[0;34m=\u001b[0m\u001b[0mself\u001b[0m\u001b[0;34m.\u001b[0m\u001b[0mmax_retries\u001b[0m\u001b[0;34m,\u001b[0m\u001b[0;34m\u001b[0m\u001b[0;34m\u001b[0m\u001b[0m\n\u001b[0;32m--> 449\u001b[0;31m                     \u001b[0mtimeout\u001b[0m\u001b[0;34m=\u001b[0m\u001b[0mtimeout\u001b[0m\u001b[0;34m\u001b[0m\u001b[0;34m\u001b[0m\u001b[0m\n\u001b[0m\u001b[1;32m    450\u001b[0m                 )\n\u001b[1;32m    451\u001b[0m \u001b[0;34m\u001b[0m\u001b[0m\n",
      "\u001b[0;32m/anaconda3/lib/python3.7/site-packages/urllib3/connectionpool.py\u001b[0m in \u001b[0;36murlopen\u001b[0;34m(self, method, url, body, headers, retries, redirect, assert_same_host, timeout, pool_timeout, release_conn, chunked, body_pos, **response_kw)\u001b[0m\n\u001b[1;32m    598\u001b[0m                                                   \u001b[0mtimeout\u001b[0m\u001b[0;34m=\u001b[0m\u001b[0mtimeout_obj\u001b[0m\u001b[0;34m,\u001b[0m\u001b[0;34m\u001b[0m\u001b[0;34m\u001b[0m\u001b[0m\n\u001b[1;32m    599\u001b[0m                                                   \u001b[0mbody\u001b[0m\u001b[0;34m=\u001b[0m\u001b[0mbody\u001b[0m\u001b[0;34m,\u001b[0m \u001b[0mheaders\u001b[0m\u001b[0;34m=\u001b[0m\u001b[0mheaders\u001b[0m\u001b[0;34m,\u001b[0m\u001b[0;34m\u001b[0m\u001b[0;34m\u001b[0m\u001b[0m\n\u001b[0;32m--> 600\u001b[0;31m                                                   chunked=chunked)\n\u001b[0m\u001b[1;32m    601\u001b[0m \u001b[0;34m\u001b[0m\u001b[0m\n\u001b[1;32m    602\u001b[0m             \u001b[0;31m# If we're going to release the connection in ``finally:``, then\u001b[0m\u001b[0;34m\u001b[0m\u001b[0;34m\u001b[0m\u001b[0;34m\u001b[0m\u001b[0m\n",
      "\u001b[0;32m/anaconda3/lib/python3.7/site-packages/urllib3/connectionpool.py\u001b[0m in \u001b[0;36m_make_request\u001b[0;34m(self, conn, method, url, timeout, chunked, **httplib_request_kw)\u001b[0m\n\u001b[1;32m    378\u001b[0m             \u001b[0;32mexcept\u001b[0m \u001b[0mTypeError\u001b[0m\u001b[0;34m:\u001b[0m  \u001b[0;31m# Python 3\u001b[0m\u001b[0;34m\u001b[0m\u001b[0;34m\u001b[0m\u001b[0m\n\u001b[1;32m    379\u001b[0m                 \u001b[0;32mtry\u001b[0m\u001b[0;34m:\u001b[0m\u001b[0;34m\u001b[0m\u001b[0;34m\u001b[0m\u001b[0m\n\u001b[0;32m--> 380\u001b[0;31m                     \u001b[0mhttplib_response\u001b[0m \u001b[0;34m=\u001b[0m \u001b[0mconn\u001b[0m\u001b[0;34m.\u001b[0m\u001b[0mgetresponse\u001b[0m\u001b[0;34m(\u001b[0m\u001b[0;34m)\u001b[0m\u001b[0;34m\u001b[0m\u001b[0;34m\u001b[0m\u001b[0m\n\u001b[0m\u001b[1;32m    381\u001b[0m                 \u001b[0;32mexcept\u001b[0m \u001b[0mException\u001b[0m \u001b[0;32mas\u001b[0m \u001b[0me\u001b[0m\u001b[0;34m:\u001b[0m\u001b[0;34m\u001b[0m\u001b[0;34m\u001b[0m\u001b[0m\n\u001b[1;32m    382\u001b[0m                     \u001b[0;31m# Remove the TypeError from the exception chain in Python 3;\u001b[0m\u001b[0;34m\u001b[0m\u001b[0;34m\u001b[0m\u001b[0;34m\u001b[0m\u001b[0m\n",
      "\u001b[0;32m/anaconda3/lib/python3.7/http/client.py\u001b[0m in \u001b[0;36mgetresponse\u001b[0;34m(self)\u001b[0m\n\u001b[1;32m   1319\u001b[0m         \u001b[0;32mtry\u001b[0m\u001b[0;34m:\u001b[0m\u001b[0;34m\u001b[0m\u001b[0;34m\u001b[0m\u001b[0m\n\u001b[1;32m   1320\u001b[0m             \u001b[0;32mtry\u001b[0m\u001b[0;34m:\u001b[0m\u001b[0;34m\u001b[0m\u001b[0;34m\u001b[0m\u001b[0m\n\u001b[0;32m-> 1321\u001b[0;31m                 \u001b[0mresponse\u001b[0m\u001b[0;34m.\u001b[0m\u001b[0mbegin\u001b[0m\u001b[0;34m(\u001b[0m\u001b[0;34m)\u001b[0m\u001b[0;34m\u001b[0m\u001b[0;34m\u001b[0m\u001b[0m\n\u001b[0m\u001b[1;32m   1322\u001b[0m             \u001b[0;32mexcept\u001b[0m \u001b[0mConnectionError\u001b[0m\u001b[0;34m:\u001b[0m\u001b[0;34m\u001b[0m\u001b[0;34m\u001b[0m\u001b[0m\n\u001b[1;32m   1323\u001b[0m                 \u001b[0mself\u001b[0m\u001b[0;34m.\u001b[0m\u001b[0mclose\u001b[0m\u001b[0;34m(\u001b[0m\u001b[0;34m)\u001b[0m\u001b[0;34m\u001b[0m\u001b[0;34m\u001b[0m\u001b[0m\n",
      "\u001b[0;32m/anaconda3/lib/python3.7/http/client.py\u001b[0m in \u001b[0;36mbegin\u001b[0;34m(self)\u001b[0m\n\u001b[1;32m    294\u001b[0m         \u001b[0;31m# read until we get a non-100 response\u001b[0m\u001b[0;34m\u001b[0m\u001b[0;34m\u001b[0m\u001b[0;34m\u001b[0m\u001b[0m\n\u001b[1;32m    295\u001b[0m         \u001b[0;32mwhile\u001b[0m \u001b[0;32mTrue\u001b[0m\u001b[0;34m:\u001b[0m\u001b[0;34m\u001b[0m\u001b[0;34m\u001b[0m\u001b[0m\n\u001b[0;32m--> 296\u001b[0;31m             \u001b[0mversion\u001b[0m\u001b[0;34m,\u001b[0m \u001b[0mstatus\u001b[0m\u001b[0;34m,\u001b[0m \u001b[0mreason\u001b[0m \u001b[0;34m=\u001b[0m \u001b[0mself\u001b[0m\u001b[0;34m.\u001b[0m\u001b[0m_read_status\u001b[0m\u001b[0;34m(\u001b[0m\u001b[0;34m)\u001b[0m\u001b[0;34m\u001b[0m\u001b[0;34m\u001b[0m\u001b[0m\n\u001b[0m\u001b[1;32m    297\u001b[0m             \u001b[0;32mif\u001b[0m \u001b[0mstatus\u001b[0m \u001b[0;34m!=\u001b[0m \u001b[0mCONTINUE\u001b[0m\u001b[0;34m:\u001b[0m\u001b[0;34m\u001b[0m\u001b[0;34m\u001b[0m\u001b[0m\n\u001b[1;32m    298\u001b[0m                 \u001b[0;32mbreak\u001b[0m\u001b[0;34m\u001b[0m\u001b[0;34m\u001b[0m\u001b[0m\n",
      "\u001b[0;32m/anaconda3/lib/python3.7/http/client.py\u001b[0m in \u001b[0;36m_read_status\u001b[0;34m(self)\u001b[0m\n\u001b[1;32m    255\u001b[0m \u001b[0;34m\u001b[0m\u001b[0m\n\u001b[1;32m    256\u001b[0m     \u001b[0;32mdef\u001b[0m \u001b[0m_read_status\u001b[0m\u001b[0;34m(\u001b[0m\u001b[0mself\u001b[0m\u001b[0;34m)\u001b[0m\u001b[0;34m:\u001b[0m\u001b[0;34m\u001b[0m\u001b[0;34m\u001b[0m\u001b[0m\n\u001b[0;32m--> 257\u001b[0;31m         \u001b[0mline\u001b[0m \u001b[0;34m=\u001b[0m \u001b[0mstr\u001b[0m\u001b[0;34m(\u001b[0m\u001b[0mself\u001b[0m\u001b[0;34m.\u001b[0m\u001b[0mfp\u001b[0m\u001b[0;34m.\u001b[0m\u001b[0mreadline\u001b[0m\u001b[0;34m(\u001b[0m\u001b[0m_MAXLINE\u001b[0m \u001b[0;34m+\u001b[0m \u001b[0;36m1\u001b[0m\u001b[0;34m)\u001b[0m\u001b[0;34m,\u001b[0m \u001b[0;34m\"iso-8859-1\"\u001b[0m\u001b[0;34m)\u001b[0m\u001b[0;34m\u001b[0m\u001b[0;34m\u001b[0m\u001b[0m\n\u001b[0m\u001b[1;32m    258\u001b[0m         \u001b[0;32mif\u001b[0m \u001b[0mlen\u001b[0m\u001b[0;34m(\u001b[0m\u001b[0mline\u001b[0m\u001b[0;34m)\u001b[0m \u001b[0;34m>\u001b[0m \u001b[0m_MAXLINE\u001b[0m\u001b[0;34m:\u001b[0m\u001b[0;34m\u001b[0m\u001b[0;34m\u001b[0m\u001b[0m\n\u001b[1;32m    259\u001b[0m             \u001b[0;32mraise\u001b[0m \u001b[0mLineTooLong\u001b[0m\u001b[0;34m(\u001b[0m\u001b[0;34m\"status line\"\u001b[0m\u001b[0;34m)\u001b[0m\u001b[0;34m\u001b[0m\u001b[0;34m\u001b[0m\u001b[0m\n",
      "\u001b[0;32m/anaconda3/lib/python3.7/socket.py\u001b[0m in \u001b[0;36mreadinto\u001b[0;34m(self, b)\u001b[0m\n\u001b[1;32m    587\u001b[0m         \u001b[0;32mwhile\u001b[0m \u001b[0;32mTrue\u001b[0m\u001b[0;34m:\u001b[0m\u001b[0;34m\u001b[0m\u001b[0;34m\u001b[0m\u001b[0m\n\u001b[1;32m    588\u001b[0m             \u001b[0;32mtry\u001b[0m\u001b[0;34m:\u001b[0m\u001b[0;34m\u001b[0m\u001b[0;34m\u001b[0m\u001b[0m\n\u001b[0;32m--> 589\u001b[0;31m                 \u001b[0;32mreturn\u001b[0m \u001b[0mself\u001b[0m\u001b[0;34m.\u001b[0m\u001b[0m_sock\u001b[0m\u001b[0;34m.\u001b[0m\u001b[0mrecv_into\u001b[0m\u001b[0;34m(\u001b[0m\u001b[0mb\u001b[0m\u001b[0;34m)\u001b[0m\u001b[0;34m\u001b[0m\u001b[0;34m\u001b[0m\u001b[0m\n\u001b[0m\u001b[1;32m    590\u001b[0m             \u001b[0;32mexcept\u001b[0m \u001b[0mtimeout\u001b[0m\u001b[0;34m:\u001b[0m\u001b[0;34m\u001b[0m\u001b[0;34m\u001b[0m\u001b[0m\n\u001b[1;32m    591\u001b[0m                 \u001b[0mself\u001b[0m\u001b[0;34m.\u001b[0m\u001b[0m_timeout_occurred\u001b[0m \u001b[0;34m=\u001b[0m \u001b[0;32mTrue\u001b[0m\u001b[0;34m\u001b[0m\u001b[0;34m\u001b[0m\u001b[0m\n",
      "\u001b[0;32m/anaconda3/lib/python3.7/site-packages/urllib3/contrib/pyopenssl.py\u001b[0m in \u001b[0;36mrecv_into\u001b[0;34m(self, *args, **kwargs)\u001b[0m\n\u001b[1;32m    292\u001b[0m     \u001b[0;32mdef\u001b[0m \u001b[0mrecv_into\u001b[0m\u001b[0;34m(\u001b[0m\u001b[0mself\u001b[0m\u001b[0;34m,\u001b[0m \u001b[0;34m*\u001b[0m\u001b[0margs\u001b[0m\u001b[0;34m,\u001b[0m \u001b[0;34m**\u001b[0m\u001b[0mkwargs\u001b[0m\u001b[0;34m)\u001b[0m\u001b[0;34m:\u001b[0m\u001b[0;34m\u001b[0m\u001b[0;34m\u001b[0m\u001b[0m\n\u001b[1;32m    293\u001b[0m         \u001b[0;32mtry\u001b[0m\u001b[0;34m:\u001b[0m\u001b[0;34m\u001b[0m\u001b[0;34m\u001b[0m\u001b[0m\n\u001b[0;32m--> 294\u001b[0;31m             \u001b[0;32mreturn\u001b[0m \u001b[0mself\u001b[0m\u001b[0;34m.\u001b[0m\u001b[0mconnection\u001b[0m\u001b[0;34m.\u001b[0m\u001b[0mrecv_into\u001b[0m\u001b[0;34m(\u001b[0m\u001b[0;34m*\u001b[0m\u001b[0margs\u001b[0m\u001b[0;34m,\u001b[0m \u001b[0;34m**\u001b[0m\u001b[0mkwargs\u001b[0m\u001b[0;34m)\u001b[0m\u001b[0;34m\u001b[0m\u001b[0;34m\u001b[0m\u001b[0m\n\u001b[0m\u001b[1;32m    295\u001b[0m         \u001b[0;32mexcept\u001b[0m \u001b[0mOpenSSL\u001b[0m\u001b[0;34m.\u001b[0m\u001b[0mSSL\u001b[0m\u001b[0;34m.\u001b[0m\u001b[0mSysCallError\u001b[0m \u001b[0;32mas\u001b[0m \u001b[0me\u001b[0m\u001b[0;34m:\u001b[0m\u001b[0;34m\u001b[0m\u001b[0;34m\u001b[0m\u001b[0m\n\u001b[1;32m    296\u001b[0m             \u001b[0;32mif\u001b[0m \u001b[0mself\u001b[0m\u001b[0;34m.\u001b[0m\u001b[0msuppress_ragged_eofs\u001b[0m \u001b[0;32mand\u001b[0m \u001b[0me\u001b[0m\u001b[0;34m.\u001b[0m\u001b[0margs\u001b[0m \u001b[0;34m==\u001b[0m \u001b[0;34m(\u001b[0m\u001b[0;34m-\u001b[0m\u001b[0;36m1\u001b[0m\u001b[0;34m,\u001b[0m \u001b[0;34m'Unexpected EOF'\u001b[0m\u001b[0;34m)\u001b[0m\u001b[0;34m:\u001b[0m\u001b[0;34m\u001b[0m\u001b[0;34m\u001b[0m\u001b[0m\n",
      "\u001b[0;32m/anaconda3/lib/python3.7/site-packages/OpenSSL/SSL.py\u001b[0m in \u001b[0;36mrecv_into\u001b[0;34m(self, buffer, nbytes, flags)\u001b[0m\n\u001b[1;32m   1811\u001b[0m             \u001b[0mresult\u001b[0m \u001b[0;34m=\u001b[0m \u001b[0m_lib\u001b[0m\u001b[0;34m.\u001b[0m\u001b[0mSSL_peek\u001b[0m\u001b[0;34m(\u001b[0m\u001b[0mself\u001b[0m\u001b[0;34m.\u001b[0m\u001b[0m_ssl\u001b[0m\u001b[0;34m,\u001b[0m \u001b[0mbuf\u001b[0m\u001b[0;34m,\u001b[0m \u001b[0mnbytes\u001b[0m\u001b[0;34m)\u001b[0m\u001b[0;34m\u001b[0m\u001b[0;34m\u001b[0m\u001b[0m\n\u001b[1;32m   1812\u001b[0m         \u001b[0;32melse\u001b[0m\u001b[0;34m:\u001b[0m\u001b[0;34m\u001b[0m\u001b[0;34m\u001b[0m\u001b[0m\n\u001b[0;32m-> 1813\u001b[0;31m             \u001b[0mresult\u001b[0m \u001b[0;34m=\u001b[0m \u001b[0m_lib\u001b[0m\u001b[0;34m.\u001b[0m\u001b[0mSSL_read\u001b[0m\u001b[0;34m(\u001b[0m\u001b[0mself\u001b[0m\u001b[0;34m.\u001b[0m\u001b[0m_ssl\u001b[0m\u001b[0;34m,\u001b[0m \u001b[0mbuf\u001b[0m\u001b[0;34m,\u001b[0m \u001b[0mnbytes\u001b[0m\u001b[0;34m)\u001b[0m\u001b[0;34m\u001b[0m\u001b[0;34m\u001b[0m\u001b[0m\n\u001b[0m\u001b[1;32m   1814\u001b[0m         \u001b[0mself\u001b[0m\u001b[0;34m.\u001b[0m\u001b[0m_raise_ssl_error\u001b[0m\u001b[0;34m(\u001b[0m\u001b[0mself\u001b[0m\u001b[0;34m.\u001b[0m\u001b[0m_ssl\u001b[0m\u001b[0;34m,\u001b[0m \u001b[0mresult\u001b[0m\u001b[0;34m)\u001b[0m\u001b[0;34m\u001b[0m\u001b[0;34m\u001b[0m\u001b[0m\n\u001b[1;32m   1815\u001b[0m \u001b[0;34m\u001b[0m\u001b[0m\n",
      "\u001b[0;31mKeyboardInterrupt\u001b[0m: "
     ]
    }
   ],
   "source": [
    "all_high_schools = []\n",
    "for item in full_links:\n",
    "    all_high_schools.extend(get_high_school_ids (item))"
   ]
  },
  {
   "cell_type": "code",
   "execution_count": 20,
   "metadata": {
    "scrolled": true
   },
   "outputs": [
    {
     "data": {
      "text/plain": [
       "1705"
      ]
     },
     "execution_count": 20,
     "metadata": {},
     "output_type": "execute_result"
    }
   ],
   "source": [
    "len(all_high_schools)"
   ]
  },
  {
   "cell_type": "code",
   "execution_count": 21,
   "metadata": {},
   "outputs": [],
   "source": [
    "import pandas as pd"
   ]
  },
  {
   "cell_type": "code",
   "execution_count": 23,
   "metadata": {},
   "outputs": [
    {
     "data": {
      "text/plain": [
       "'/Users/ruthmazurek/Desktop/flatiron_projects/Public_high_schools'"
      ]
     },
     "execution_count": 23,
     "metadata": {},
     "output_type": "execute_result"
    }
   ],
   "source": [
    "pwd"
   ]
  },
  {
   "cell_type": "code",
   "execution_count": 22,
   "metadata": {},
   "outputs": [],
   "source": [
    "all_high_schools_pd = pd.DataFrame(all_high_schools)"
   ]
  },
  {
   "cell_type": "code",
   "execution_count": 24,
   "metadata": {},
   "outputs": [],
   "source": [
    "all_high_schools_pd.to_csv('all_high_schools_pd.csv')"
   ]
  },
  {
   "cell_type": "code",
   "execution_count": null,
   "metadata": {},
   "outputs": [],
   "source": [
    "#https://data.nysed.gov/essa.php?instid=800000043426&year=2018&createreport=1&HSgradrate=1&regents=1"
   ]
  },
  {
   "cell_type": "code",
   "execution_count": 32,
   "metadata": {},
   "outputs": [],
   "source": [
    "links_all_schools = []\n",
    "for item in all_high_schools:\n",
    "    links_all_schools.append('https://data.nysed.gov/essa.php?instid='+item+'&year=2018&createreport=1&HSgradrate=1&regents=1')"
   ]
  },
  {
   "cell_type": "code",
   "execution_count": 104,
   "metadata": {},
   "outputs": [
    {
     "ename": "NameError",
     "evalue": "name 'links_all_schools' is not defined",
     "output_type": "error",
     "traceback": [
      "\u001b[0;31m---------------------------------------------------------------------------\u001b[0m",
      "\u001b[0;31mNameError\u001b[0m                                 Traceback (most recent call last)",
      "\u001b[0;32m<ipython-input-104-322fb475cf60>\u001b[0m in \u001b[0;36m<module>\u001b[0;34m\u001b[0m\n\u001b[0;32m----> 1\u001b[0;31m \u001b[0mlinks_all_schools\u001b[0m\u001b[0;34m\u001b[0m\u001b[0;34m\u001b[0m\u001b[0m\n\u001b[0m",
      "\u001b[0;31mNameError\u001b[0m: name 'links_all_schools' is not defined"
     ]
    }
   ],
   "source": [
    "links_all_schools"
   ]
  },
  {
   "cell_type": "code",
   "execution_count": 3,
   "metadata": {},
   "outputs": [],
   "source": [
    "#grabbing the grad rate\n",
    "page = requests.get('https://data.nysed.gov/essa.php?instid=800000043426&year=2018&createreport=1&HSgradrate=1&regents=1')\n",
    "soup = BS(page.content, 'html.parser')"
   ]
  },
  {
   "cell_type": "code",
   "execution_count": 4,
   "metadata": {},
   "outputs": [],
   "source": [
    "grad_rate=soup.select('td[data-label=\"Grad Rate\"]')"
   ]
  },
  {
   "cell_type": "code",
   "execution_count": 12,
   "metadata": {
    "collapsed": true
   },
   "outputs": [
    {
     "data": {
      "text/plain": [
       "[<td data-label=\"Grad Rate\">99.1%</td>,\n",
       " <td data-label=\"Grad Rate\">100%</td>,\n",
       " <td data-label=\"Grad Rate\">98.7%</td>,\n",
       " <td data-label=\"Grad Rate\">—</td>,\n",
       " <td data-label=\"Grad Rate\">—</td>,\n",
       " <td data-label=\"Grad Rate\">—</td>,\n",
       " <td data-label=\"Grad Rate\">100%</td>,\n",
       " <td data-label=\"Grad Rate\">100%</td>,\n",
       " <td data-label=\"Grad Rate\">100%</td>,\n",
       " <td data-label=\"Grad Rate\">94.7%</td>,\n",
       " <td data-label=\"Grad Rate\">100%</td>,\n",
       " <td data-label=\"Grad Rate\">100%</td>,\n",
       " <td data-label=\"Grad Rate\">97.9%</td>,\n",
       " <td data-label=\"Grad Rate\">98.2%</td>,\n",
       " <td data-label=\"Grad Rate\">97%</td>,\n",
       " <td data-label=\"Grad Rate\">—</td>,\n",
       " <td data-label=\"Grad Rate\">—</td>,\n",
       " <td data-label=\"Grad Rate\">—</td>,\n",
       " <td data-label=\"Grad Rate\">100%</td>,\n",
       " <td data-label=\"Grad Rate\">100%</td>,\n",
       " <td data-label=\"Grad Rate\">98.6%</td>,\n",
       " <td data-label=\"Grad Rate\">—</td>,\n",
       " <td data-label=\"Grad Rate\">—</td>,\n",
       " <td data-label=\"Grad Rate\">—</td>,\n",
       " <td data-label=\"Grad Rate\">—</td>,\n",
       " <td data-label=\"Grad Rate\">—</td>,\n",
       " <td data-label=\"Grad Rate\">—</td>,\n",
       " <td data-label=\"Grad Rate\">100%</td>,\n",
       " <td data-label=\"Grad Rate\">100%</td>,\n",
       " <td data-label=\"Grad Rate\">98%</td>]"
      ]
     },
     "execution_count": 12,
     "metadata": {},
     "output_type": "execute_result"
    }
   ],
   "source": [
    "\n",
    "grad_rate"
   ]
  },
  {
   "cell_type": "code",
   "execution_count": 41,
   "metadata": {},
   "outputs": [],
   "source": [
    "grad_rates=grad_rate[0::3]"
   ]
  },
  {
   "cell_type": "code",
   "execution_count": 101,
   "metadata": {},
   "outputs": [
    {
     "data": {
      "text/plain": [
       "[<td data-label=\"Grad Rate\">99.1%</td>,\n",
       " <td data-label=\"Grad Rate\">—</td>,\n",
       " <td data-label=\"Grad Rate\">100%</td>,\n",
       " <td data-label=\"Grad Rate\">94.7%</td>,\n",
       " <td data-label=\"Grad Rate\">97.9%</td>,\n",
       " <td data-label=\"Grad Rate\">—</td>,\n",
       " <td data-label=\"Grad Rate\">100%</td>,\n",
       " <td data-label=\"Grad Rate\">—</td>,\n",
       " <td data-label=\"Grad Rate\">—</td>,\n",
       " <td data-label=\"Grad Rate\">100%</td>]"
      ]
     },
     "execution_count": 101,
     "metadata": {},
     "output_type": "execute_result"
    }
   ],
   "source": [
    "#all grad rates for 1 school\n",
    "#indexed perfectly with\n",
    "grad_rates"
   ]
  },
  {
   "cell_type": "code",
   "execution_count": 43,
   "metadata": {},
   "outputs": [
    {
     "data": {
      "text/plain": [
       "'99.1%'"
      ]
     },
     "execution_count": 43,
     "metadata": {},
     "output_type": "execute_result"
    }
   ],
   "source": [
    "grad_rates[0].string"
   ]
  },
  {
   "cell_type": "code",
   "execution_count": 102,
   "metadata": {},
   "outputs": [
    {
     "data": {
      "text/plain": [
       "10"
      ]
     },
     "execution_count": 102,
     "metadata": {},
     "output_type": "execute_result"
    }
   ],
   "source": [
    "len(grad_rates)"
   ]
  },
  {
   "cell_type": "code",
   "execution_count": 33,
   "metadata": {},
   "outputs": [],
   "source": [
    "student_type=soup.select('th[rowspan=\"3\"]')"
   ]
  },
  {
   "cell_type": "code",
   "execution_count": 35,
   "metadata": {
    "collapsed": true
   },
   "outputs": [
    {
     "data": {
      "text/plain": [
       "[<th data-label=\"Subgroup\" rowspan=\"3\" scope=\"row\">All Students</th>,\n",
       " <th data-label=\"Subgroup\" rowspan=\"3\" scope=\"row\">American Indian or Alaska Native</th>,\n",
       " <th data-label=\"Subgroup\" rowspan=\"3\" scope=\"row\">Asian or Native Hawaiian/Other Pacific Islander</th>,\n",
       " <th data-label=\"Subgroup\" rowspan=\"3\" scope=\"row\">Black or African American</th>,\n",
       " <th data-label=\"Subgroup\" rowspan=\"3\" scope=\"row\">Hispanic or Latino</th>,\n",
       " <th data-label=\"Subgroup\" rowspan=\"3\" scope=\"row\">Multiracial</th>,\n",
       " <th data-label=\"Subgroup\" rowspan=\"3\" scope=\"row\">White</th>,\n",
       " <th data-label=\"Subgroup\" rowspan=\"3\" scope=\"row\">English Language Learners</th>,\n",
       " <th data-label=\"Subgroup\" rowspan=\"3\" scope=\"row\">Students with Disabilities</th>,\n",
       " <th data-label=\"Subgroup\" rowspan=\"3\" scope=\"row\">Economically Disadvantaged</th>]"
      ]
     },
     "execution_count": 35,
     "metadata": {},
     "output_type": "execute_result"
    }
   ],
   "source": [
    "student_type"
   ]
  },
  {
   "cell_type": "code",
   "execution_count": 103,
   "metadata": {
    "scrolled": true
   },
   "outputs": [
    {
     "data": {
      "text/plain": [
       "10"
      ]
     },
     "execution_count": 103,
     "metadata": {},
     "output_type": "execute_result"
    }
   ],
   "source": [
    "len(student_type)"
   ]
  },
  {
   "cell_type": "code",
   "execution_count": 34,
   "metadata": {},
   "outputs": [
    {
     "data": {
      "text/plain": [
       "'Asian or Native Hawaiian/Other Pacific Islander'"
      ]
     },
     "execution_count": 34,
     "metadata": {},
     "output_type": "execute_result"
    }
   ],
   "source": [
    "student_type[2].string"
   ]
  },
  {
   "cell_type": "code",
   "execution_count": 36,
   "metadata": {},
   "outputs": [],
   "source": [
    "student_classification = []\n",
    "for thing in student_type:\n",
    "    student_classification.append(thing.string)"
   ]
  },
  {
   "cell_type": "code",
   "execution_count": 37,
   "metadata": {},
   "outputs": [
    {
     "data": {
      "text/plain": [
       "['All Students',\n",
       " 'American Indian or Alaska Native',\n",
       " 'Asian or Native Hawaiian/Other Pacific Islander',\n",
       " 'Black or African American',\n",
       " 'Hispanic or Latino',\n",
       " 'Multiracial',\n",
       " 'White',\n",
       " 'English Language Learners',\n",
       " 'Students with Disabilities',\n",
       " 'Economically Disadvantaged']"
      ]
     },
     "execution_count": 37,
     "metadata": {},
     "output_type": "execute_result"
    }
   ],
   "source": [
    "student_classification"
   ]
  },
  {
   "cell_type": "code",
   "execution_count": 29,
   "metadata": {},
   "outputs": [],
   "source": [
    "school_name=soup.select('li[class=\"current\"]')"
   ]
  },
  {
   "cell_type": "code",
   "execution_count": 32,
   "metadata": {},
   "outputs": [
    {
     "data": {
      "text/plain": [
       "'BARD HIGH SCHOOL EARLY COLLEGE'"
      ]
     },
     "execution_count": 32,
     "metadata": {},
     "output_type": "execute_result"
    }
   ],
   "source": [
    "school_name[0].string"
   ]
  },
  {
   "cell_type": "code",
   "execution_count": 44,
   "metadata": {},
   "outputs": [],
   "source": [
    "#level 1 percent\n",
    "level_one=soup.select('td[data-label=\"Level 1 Percent\"]')"
   ]
  },
  {
   "cell_type": "code",
   "execution_count": 49,
   "metadata": {
    "collapsed": true
   },
   "outputs": [
    {
     "data": {
      "text/plain": [
       "[<td data-label=\"Level 1 Percent\">1%</td>,\n",
       " <td data-label=\"Level 1 Percent\">0%</td>,\n",
       " <td data-label=\"Level 1 Percent\">13%</td>,\n",
       " <td data-label=\"Level 1 Percent\">0%</td>,\n",
       " <td data-label=\"Level 1 Percent\">—</td>,\n",
       " <td data-label=\"Level 1 Percent\">4%</td>,\n",
       " <td data-label=\"Level 1 Percent\">0%</td>,\n",
       " <td data-label=\"Level 1 Percent\">—</td>,\n",
       " <td data-label=\"Level 1 Percent\">0%</td>,\n",
       " <td data-label=\"Level 1 Percent\">1%</td>,\n",
       " <td data-label=\"Level 1 Percent\">0%</td>,\n",
       " <td data-label=\"Level 1 Percent\">1%</td>,\n",
       " <td data-label=\"Level 1 Percent\">2%</td>,\n",
       " <td data-label=\"Level 1 Percent\">0%</td>,\n",
       " <td data-label=\"Level 1 Percent\">1%</td>,\n",
       " <td data-label=\"Level 1 Percent\">—</td>,\n",
       " <td data-label=\"Level 1 Percent\">—</td>,\n",
       " <td data-label=\"Level 1 Percent\">1%</td>,\n",
       " <td data-label=\"Level 1 Percent\">1%</td>,\n",
       " <td data-label=\"Level 1 Percent\">9%</td>,\n",
       " <td data-label=\"Level 1 Percent\">3%</td>,\n",
       " <td data-label=\"Level 1 Percent\">22%</td>,\n",
       " <td data-label=\"Level 1 Percent\">0%</td>,\n",
       " <td data-label=\"Level 1 Percent\">0%</td>,\n",
       " <td data-label=\"Level 1 Percent\">21%</td>,\n",
       " <td data-label=\"Level 1 Percent\">11%</td>,\n",
       " <td data-label=\"Level 1 Percent\">6%</td>,\n",
       " <td data-label=\"Level 1 Percent\">13%</td>,\n",
       " <td data-label=\"Level 1 Percent\">—</td>,\n",
       " <td data-label=\"Level 1 Percent\">—</td>,\n",
       " <td data-label=\"Level 1 Percent\">9%</td>,\n",
       " <td data-label=\"Level 1 Percent\">9%</td>,\n",
       " <td data-label=\"Level 1 Percent\">9%</td>,\n",
       " <td data-label=\"Level 1 Percent\">—</td>,\n",
       " <td data-label=\"Level 1 Percent\">—</td>,\n",
       " <td data-label=\"Level 1 Percent\">9%</td>,\n",
       " <td data-label=\"Level 1 Percent\">9%</td>,\n",
       " <td data-label=\"Level 1 Percent\">57%</td>,\n",
       " <td data-label=\"Level 1 Percent\">—</td>,\n",
       " <td data-label=\"Level 1 Percent\">—</td>,\n",
       " <td data-label=\"Level 1 Percent\">—</td>,\n",
       " <td data-label=\"Level 1 Percent\">—</td>,\n",
       " <td data-label=\"Level 1 Percent\">—</td>,\n",
       " <td data-label=\"Level 1 Percent\">—</td>,\n",
       " <td data-label=\"Level 1 Percent\">57%</td>,\n",
       " <td data-label=\"Level 1 Percent\">—</td>,\n",
       " <td data-label=\"Level 1 Percent\">—</td>,\n",
       " <td data-label=\"Level 1 Percent\">57%</td>,\n",
       " <td data-label=\"Level 1 Percent\">—</td>,\n",
       " <td data-label=\"Level 1 Percent\">—</td>,\n",
       " <td data-label=\"Level 1 Percent\">57%</td>,\n",
       " <td data-label=\"Level 1 Percent\">—</td>,\n",
       " <td data-label=\"Level 1 Percent\">—</td>,\n",
       " <td data-label=\"Level 1 Percent\">57%</td>,\n",
       " <td data-label=\"Level 1 Percent\">57%</td>,\n",
       " <td data-label=\"Level 1 Percent\">4%</td>,\n",
       " <td data-label=\"Level 1 Percent\">2%</td>,\n",
       " <td data-label=\"Level 1 Percent\">22%</td>,\n",
       " <td data-label=\"Level 1 Percent\">5%</td>,\n",
       " <td data-label=\"Level 1 Percent\">—</td>,\n",
       " <td data-label=\"Level 1 Percent\">8%</td>,\n",
       " <td data-label=\"Level 1 Percent\">2%</td>,\n",
       " <td data-label=\"Level 1 Percent\">—</td>,\n",
       " <td data-label=\"Level 1 Percent\">0%</td>,\n",
       " <td data-label=\"Level 1 Percent\">3%</td>,\n",
       " <td data-label=\"Level 1 Percent\">5%</td>,\n",
       " <td data-label=\"Level 1 Percent\">4%</td>,\n",
       " <td data-label=\"Level 1 Percent\">8%</td>,\n",
       " <td data-label=\"Level 1 Percent\">1%</td>,\n",
       " <td data-label=\"Level 1 Percent\">4%</td>,\n",
       " <td data-label=\"Level 1 Percent\">—</td>,\n",
       " <td data-label=\"Level 1 Percent\">—</td>,\n",
       " <td data-label=\"Level 1 Percent\">4%</td>,\n",
       " <td data-label=\"Level 1 Percent\">4%</td>,\n",
       " <td data-label=\"Level 1 Percent\">0%</td>,\n",
       " <td data-label=\"Level 1 Percent\">—</td>,\n",
       " <td data-label=\"Level 1 Percent\">—</td>,\n",
       " <td data-label=\"Level 1 Percent\">—</td>,\n",
       " <td data-label=\"Level 1 Percent\">—</td>,\n",
       " <td data-label=\"Level 1 Percent\">—</td>,\n",
       " <td data-label=\"Level 1 Percent\">0%</td>,\n",
       " <td data-label=\"Level 1 Percent\">—</td>,\n",
       " <td data-label=\"Level 1 Percent\">—</td>,\n",
       " <td data-label=\"Level 1 Percent\">0%</td>,\n",
       " <td data-label=\"Level 1 Percent\">—</td>,\n",
       " <td data-label=\"Level 1 Percent\">—</td>,\n",
       " <td data-label=\"Level 1 Percent\">0%</td>,\n",
       " <td data-label=\"Level 1 Percent\">—</td>,\n",
       " <td data-label=\"Level 1 Percent\">—</td>,\n",
       " <td data-label=\"Level 1 Percent\">0%</td>,\n",
       " <td data-label=\"Level 1 Percent\">0%</td>,\n",
       " <td data-label=\"Level 1 Percent\">2%</td>,\n",
       " <td data-label=\"Level 1 Percent\">0%</td>,\n",
       " <td data-label=\"Level 1 Percent\">33%</td>,\n",
       " <td data-label=\"Level 1 Percent\">0%</td>,\n",
       " <td data-label=\"Level 1 Percent\">—</td>,\n",
       " <td data-label=\"Level 1 Percent\">11%</td>,\n",
       " <td data-label=\"Level 1 Percent\">0%</td>,\n",
       " <td data-label=\"Level 1 Percent\">—</td>,\n",
       " <td data-label=\"Level 1 Percent\">0%</td>,\n",
       " <td data-label=\"Level 1 Percent\">1%</td>,\n",
       " <td data-label=\"Level 1 Percent\">5%</td>,\n",
       " <td data-label=\"Level 1 Percent\">2%</td>,\n",
       " <td data-label=\"Level 1 Percent\">6%</td>,\n",
       " <td data-label=\"Level 1 Percent\">0%</td>,\n",
       " <td data-label=\"Level 1 Percent\">2%</td>,\n",
       " <td data-label=\"Level 1 Percent\">17%</td>,\n",
       " <td data-label=\"Level 1 Percent\">2%</td>,\n",
       " <td data-label=\"Level 1 Percent\">2%</td>,\n",
       " <td data-label=\"Level 1 Percent\">2%</td>,\n",
       " <td data-label=\"Level 1 Percent\">5%</td>,\n",
       " <td data-label=\"Level 1 Percent\">0%</td>,\n",
       " <td data-label=\"Level 1 Percent\">35%</td>,\n",
       " <td data-label=\"Level 1 Percent\">0%</td>,\n",
       " <td data-label=\"Level 1 Percent\">—</td>,\n",
       " <td data-label=\"Level 1 Percent\">15%</td>,\n",
       " <td data-label=\"Level 1 Percent\">2%</td>,\n",
       " <td data-label=\"Level 1 Percent\">—</td>,\n",
       " <td data-label=\"Level 1 Percent\">13%</td>,\n",
       " <td data-label=\"Level 1 Percent\">4%</td>,\n",
       " <td data-label=\"Level 1 Percent\">7%</td>,\n",
       " <td data-label=\"Level 1 Percent\">—</td>,\n",
       " <td data-label=\"Level 1 Percent\">—</td>,\n",
       " <td data-label=\"Level 1 Percent\">9%</td>,\n",
       " <td data-label=\"Level 1 Percent\">2%</td>,\n",
       " <td data-label=\"Level 1 Percent\">5%</td>,\n",
       " <td data-label=\"Level 1 Percent\">—</td>,\n",
       " <td data-label=\"Level 1 Percent\">—</td>,\n",
       " <td data-label=\"Level 1 Percent\">5%</td>,\n",
       " <td data-label=\"Level 1 Percent\">5%</td>]"
      ]
     },
     "execution_count": 49,
     "metadata": {},
     "output_type": "execute_result"
    }
   ],
   "source": [
    "level_one"
   ]
  },
  {
   "cell_type": "code",
   "execution_count": 50,
   "metadata": {},
   "outputs": [
    {
     "data": {
      "text/plain": [
       "130"
      ]
     },
     "execution_count": 50,
     "metadata": {},
     "output_type": "execute_result"
    }
   ],
   "source": [
    "len(level_one)"
   ]
  },
  {
   "cell_type": "code",
   "execution_count": 56,
   "metadata": {},
   "outputs": [],
   "source": [
    "tables=soup.find_all('tbody')"
   ]
  },
  {
   "cell_type": "code",
   "execution_count": 62,
   "metadata": {},
   "outputs": [
    {
     "data": {
      "text/plain": [
       "<th data-label=\"Subgroup\">All Students</th>"
      ]
     },
     "execution_count": 62,
     "metadata": {},
     "output_type": "execute_result"
    }
   ],
   "source": [
    "tables[1].select('th')[0]"
   ]
  },
  {
   "cell_type": "code",
   "execution_count": 65,
   "metadata": {},
   "outputs": [
    {
     "data": {
      "text/plain": [
       "<td data-label=\"Level 1 Percent\">1%</td>"
      ]
     },
     "execution_count": 65,
     "metadata": {},
     "output_type": "execute_result"
    }
   ],
   "source": [
    "tables[1].select('td[data-label=\"Level 1 Percent\"]')[0]"
   ]
  },
  {
   "cell_type": "code",
   "execution_count": 73,
   "metadata": {},
   "outputs": [
    {
     "data": {
      "text/plain": [
       "8"
      ]
     },
     "execution_count": 73,
     "metadata": {},
     "output_type": "execute_result"
    }
   ],
   "source": [
    "len(tables)"
   ]
  },
  {
   "cell_type": "code",
   "execution_count": 82,
   "metadata": {},
   "outputs": [],
   "source": [
    "regents_tables=tables[1::]"
   ]
  },
  {
   "cell_type": "code",
   "execution_count": null,
   "metadata": {},
   "outputs": [],
   "source": []
  },
  {
   "cell_type": "code",
   "execution_count": 84,
   "metadata": {},
   "outputs": [],
   "source": [
    "table_names_extra_stuff=soup.select('h4[class=\"center\"]')"
   ]
  },
  {
   "cell_type": "code",
   "execution_count": 85,
   "metadata": {
    "scrolled": true
   },
   "outputs": [],
   "source": [
    "table_names = []\n",
    "for thing in table_names_extra_stuff:\n",
    "    table_names.append(thing.string)"
   ]
  },
  {
   "cell_type": "code",
   "execution_count": 89,
   "metadata": {},
   "outputs": [
    {
     "data": {
      "text/plain": [
       "'Annual Regents English (2017-18)'"
      ]
     },
     "execution_count": 89,
     "metadata": {},
     "output_type": "execute_result"
    }
   ],
   "source": [
    "table_names[0]"
   ]
  },
  {
   "cell_type": "code",
   "execution_count": 93,
   "metadata": {},
   "outputs": [
    {
     "data": {
      "text/plain": [
       "<th data-label=\"Subgroup\">All Students</th>"
      ]
     },
     "execution_count": 93,
     "metadata": {},
     "output_type": "execute_result"
    }
   ],
   "source": [
    "regents_tables[0].select('th[data-label=\"Subgroup\"]')[0]"
   ]
  },
  {
   "cell_type": "code",
   "execution_count": 100,
   "metadata": {},
   "outputs": [
    {
     "data": {
      "text/plain": [
       "<td data-label=\"Level 1 Percent\">1%</td>"
      ]
     },
     "execution_count": 100,
     "metadata": {},
     "output_type": "execute_result"
    }
   ],
   "source": [
    "regents_tables[0].select('td[data-label=\"Level 1 Percent\"]')[0]"
   ]
  },
  {
   "cell_type": "code",
   "execution_count": 98,
   "metadata": {},
   "outputs": [
    {
     "data": {
      "text/plain": [
       "<tbody>\n",
       "<tr>\n",
       "<th data-label=\"Subgroup\">All Students</th>\n",
       "<td data-label=\"Tested\">130</td>\n",
       "<td data-label=\"Level 1 Count\">1</td>\n",
       "<td data-label=\"Level 1 Percent\">1%</td>\n",
       "<td data-label=\"Level 2 Count\">2</td>\n",
       "<td data-label=\"Level 2 Percent\">2%</td>\n",
       "<td data-label=\"Level 3 Count\">15</td>\n",
       "<td data-label=\"Level 3 Percent\">12%</td>\n",
       "<td data-label=\"Level 4 Count\">21</td>\n",
       "<td data-label=\"Level 4 Percent\">16%</td>\n",
       "<td data-label=\"Level 5 Count\">91</td>\n",
       "<td data-label=\"Level 5 Percent\">70%</td>\n",
       "<td data-label=\"Prof Count\">127</td>\n",
       "<td data-label=\"Prof Percent\">98%</td>\n",
       "</tr>\n",
       "<tr>\n",
       "<th data-label=\"Subgroup\">General Education</th>\n",
       "<td data-label=\"Tested\">122</td>\n",
       "<td data-label=\"Level 1 Count\">0</td>\n",
       "<td data-label=\"Level 1 Percent\">0%</td>\n",
       "<td data-label=\"Level 2 Count\">2</td>\n",
       "<td data-label=\"Level 2 Percent\">2%</td>\n",
       "<td data-label=\"Level 3 Count\">14</td>\n",
       "<td data-label=\"Level 3 Percent\">11%</td>\n",
       "<td data-label=\"Level 4 Count\">19</td>\n",
       "<td data-label=\"Level 4 Percent\">16%</td>\n",
       "<td data-label=\"Level 5 Count\">87</td>\n",
       "<td data-label=\"Level 5 Percent\">71%</td>\n",
       "<td data-label=\"Prof Count\">120</td>\n",
       "<td data-label=\"Prof Percent\">98%</td>\n",
       "</tr>\n",
       "<tr>\n",
       "<th data-label=\"Subgroup\">Students with Disabilities</th>\n",
       "<td data-label=\"Tested\">8</td>\n",
       "<td data-label=\"Level 1 Count\">1</td>\n",
       "<td data-label=\"Level 1 Percent\">13%</td>\n",
       "<td data-label=\"Level 2 Count\">0</td>\n",
       "<td data-label=\"Level 2 Percent\">0%</td>\n",
       "<td data-label=\"Level 3 Count\">1</td>\n",
       "<td data-label=\"Level 3 Percent\">13%</td>\n",
       "<td data-label=\"Level 4 Count\">2</td>\n",
       "<td data-label=\"Level 4 Percent\">25%</td>\n",
       "<td data-label=\"Level 5 Count\">4</td>\n",
       "<td data-label=\"Level 5 Percent\">50%</td>\n",
       "<td data-label=\"Prof Count\">7</td>\n",
       "<td data-label=\"Prof Percent\">88%</td>\n",
       "</tr>\n",
       "<tr>\n",
       "<th data-label=\"Subgroup\">Asian or Native Hawaiian/Other Pacific Islander</th>\n",
       "<td data-label=\"Tested\">39</td>\n",
       "<td data-label=\"Level 1 Count\">0</td>\n",
       "<td data-label=\"Level 1 Percent\">0%</td>\n",
       "<td data-label=\"Level 2 Count\">1</td>\n",
       "<td data-label=\"Level 2 Percent\">3%</td>\n",
       "<td data-label=\"Level 3 Count\">9</td>\n",
       "<td data-label=\"Level 3 Percent\">23%</td>\n",
       "<td data-label=\"Level 4 Count\">5</td>\n",
       "<td data-label=\"Level 4 Percent\">13%</td>\n",
       "<td data-label=\"Level 5 Count\">24</td>\n",
       "<td data-label=\"Level 5 Percent\">62%</td>\n",
       "<td data-label=\"Prof Count\">38</td>\n",
       "<td data-label=\"Prof Percent\">97%</td>\n",
       "</tr>\n",
       "<tr>\n",
       "<th data-label=\"Subgroup\">Black or African American</th>\n",
       "<td data-label=\"Tested\">14</td>\n",
       "<td data-label=\"Level 1 Count\">—</td>\n",
       "<td data-label=\"Level 1 Percent\">—</td>\n",
       "<td data-label=\"Level 2 Count\">—</td>\n",
       "<td data-label=\"Level 2 Percent\">—</td>\n",
       "<td data-label=\"Level 3 Count\">—</td>\n",
       "<td data-label=\"Level 3 Percent\">—</td>\n",
       "<td data-label=\"Level 4 Count\">—</td>\n",
       "<td data-label=\"Level 4 Percent\">—</td>\n",
       "<td data-label=\"Level 5 Count\">—</td>\n",
       "<td data-label=\"Level 5 Percent\">—</td>\n",
       "<td data-label=\"Prof Count\">—</td>\n",
       "<td data-label=\"Prof Percent\">—</td>\n",
       "</tr>\n",
       "<tr>\n",
       "<th data-label=\"Subgroup\">Hispanic or Latino</th>\n",
       "<td data-label=\"Tested\">28</td>\n",
       "<td data-label=\"Level 1 Count\">1</td>\n",
       "<td data-label=\"Level 1 Percent\">4%</td>\n",
       "<td data-label=\"Level 2 Count\">0</td>\n",
       "<td data-label=\"Level 2 Percent\">0%</td>\n",
       "<td data-label=\"Level 3 Count\">3</td>\n",
       "<td data-label=\"Level 3 Percent\">11%</td>\n",
       "<td data-label=\"Level 4 Count\">6</td>\n",
       "<td data-label=\"Level 4 Percent\">21%</td>\n",
       "<td data-label=\"Level 5 Count\">18</td>\n",
       "<td data-label=\"Level 5 Percent\">64%</td>\n",
       "<td data-label=\"Prof Count\">27</td>\n",
       "<td data-label=\"Prof Percent\">96%</td>\n",
       "</tr>\n",
       "<tr>\n",
       "<th data-label=\"Subgroup\">White</th>\n",
       "<td data-label=\"Tested\">47</td>\n",
       "<td data-label=\"Level 1 Count\">0</td>\n",
       "<td data-label=\"Level 1 Percent\">0%</td>\n",
       "<td data-label=\"Level 2 Count\">0</td>\n",
       "<td data-label=\"Level 2 Percent\">0%</td>\n",
       "<td data-label=\"Level 3 Count\">1</td>\n",
       "<td data-label=\"Level 3 Percent\">2%</td>\n",
       "<td data-label=\"Level 4 Count\">7</td>\n",
       "<td data-label=\"Level 4 Percent\">15%</td>\n",
       "<td data-label=\"Level 5 Count\">39</td>\n",
       "<td data-label=\"Level 5 Percent\">83%</td>\n",
       "<td data-label=\"Prof Count\">47</td>\n",
       "<td data-label=\"Prof Percent\">100%</td>\n",
       "</tr>\n",
       "<tr>\n",
       "<th data-label=\"Subgroup\">Multiracial</th>\n",
       "<td data-label=\"Tested\">2</td>\n",
       "<td data-label=\"Level 1 Count\">—</td>\n",
       "<td data-label=\"Level 1 Percent\">—</td>\n",
       "<td data-label=\"Level 2 Count\">—</td>\n",
       "<td data-label=\"Level 2 Percent\">—</td>\n",
       "<td data-label=\"Level 3 Count\">—</td>\n",
       "<td data-label=\"Level 3 Percent\">—</td>\n",
       "<td data-label=\"Level 4 Count\">—</td>\n",
       "<td data-label=\"Level 4 Percent\">—</td>\n",
       "<td data-label=\"Level 5 Count\">—</td>\n",
       "<td data-label=\"Level 5 Percent\">—</td>\n",
       "<td data-label=\"Prof Count\">—</td>\n",
       "<td data-label=\"Prof Percent\">—</td>\n",
       "</tr>\n",
       "<tr>\n",
       "<th data-label=\"Subgroup\">Small Group Total</th>\n",
       "<td data-label=\"Tested\">16</td>\n",
       "<td data-label=\"Level 1 Count\">0</td>\n",
       "<td data-label=\"Level 1 Percent\">0%</td>\n",
       "<td data-label=\"Level 2 Count\">1</td>\n",
       "<td data-label=\"Level 2 Percent\">6%</td>\n",
       "<td data-label=\"Level 3 Count\">2</td>\n",
       "<td data-label=\"Level 3 Percent\">13%</td>\n",
       "<td data-label=\"Level 4 Count\">3</td>\n",
       "<td data-label=\"Level 4 Percent\">19%</td>\n",
       "<td data-label=\"Level 5 Count\">10</td>\n",
       "<td data-label=\"Level 5 Percent\">63%</td>\n",
       "<td data-label=\"Prof Count\">15</td>\n",
       "<td data-label=\"Prof Percent\">94%</td>\n",
       "</tr>\n",
       "<tr>\n",
       "<th data-label=\"Subgroup\">Female</th>\n",
       "<td data-label=\"Tested\">91</td>\n",
       "<td data-label=\"Level 1 Count\">1</td>\n",
       "<td data-label=\"Level 1 Percent\">1%</td>\n",
       "<td data-label=\"Level 2 Count\">0</td>\n",
       "<td data-label=\"Level 2 Percent\">0%</td>\n",
       "<td data-label=\"Level 3 Count\">9</td>\n",
       "<td data-label=\"Level 3 Percent\">10%</td>\n",
       "<td data-label=\"Level 4 Count\">11</td>\n",
       "<td data-label=\"Level 4 Percent\">12%</td>\n",
       "<td data-label=\"Level 5 Count\">70</td>\n",
       "<td data-label=\"Level 5 Percent\">77%</td>\n",
       "<td data-label=\"Prof Count\">90</td>\n",
       "<td data-label=\"Prof Percent\">99%</td>\n",
       "</tr>\n",
       "<tr>\n",
       "<th data-label=\"Subgroup\">Male</th>\n",
       "<td data-label=\"Tested\">39</td>\n",
       "<td data-label=\"Level 1 Count\">0</td>\n",
       "<td data-label=\"Level 1 Percent\">0%</td>\n",
       "<td data-label=\"Level 2 Count\">2</td>\n",
       "<td data-label=\"Level 2 Percent\">5%</td>\n",
       "<td data-label=\"Level 3 Count\">6</td>\n",
       "<td data-label=\"Level 3 Percent\">15%</td>\n",
       "<td data-label=\"Level 4 Count\">10</td>\n",
       "<td data-label=\"Level 4 Percent\">26%</td>\n",
       "<td data-label=\"Level 5 Count\">21</td>\n",
       "<td data-label=\"Level 5 Percent\">54%</td>\n",
       "<td data-label=\"Prof Count\">37</td>\n",
       "<td data-label=\"Prof Percent\">95%</td>\n",
       "</tr>\n",
       "<tr>\n",
       "<th data-label=\"Subgroup\">Non-English Language Learners</th>\n",
       "<td data-label=\"Tested\">130</td>\n",
       "<td data-label=\"Level 1 Count\">1</td>\n",
       "<td data-label=\"Level 1 Percent\">1%</td>\n",
       "<td data-label=\"Level 2 Count\">2</td>\n",
       "<td data-label=\"Level 2 Percent\">2%</td>\n",
       "<td data-label=\"Level 3 Count\">15</td>\n",
       "<td data-label=\"Level 3 Percent\">12%</td>\n",
       "<td data-label=\"Level 4 Count\">21</td>\n",
       "<td data-label=\"Level 4 Percent\">16%</td>\n",
       "<td data-label=\"Level 5 Count\">91</td>\n",
       "<td data-label=\"Level 5 Percent\">70%</td>\n",
       "<td data-label=\"Prof Count\">127</td>\n",
       "<td data-label=\"Prof Percent\">98%</td>\n",
       "</tr>\n",
       "<tr>\n",
       "<th data-label=\"Subgroup\">Economically Disadvantaged</th>\n",
       "<td data-label=\"Tested\">52</td>\n",
       "<td data-label=\"Level 1 Count\">1</td>\n",
       "<td data-label=\"Level 1 Percent\">2%</td>\n",
       "<td data-label=\"Level 2 Count\">1</td>\n",
       "<td data-label=\"Level 2 Percent\">2%</td>\n",
       "<td data-label=\"Level 3 Count\">9</td>\n",
       "<td data-label=\"Level 3 Percent\">17%</td>\n",
       "<td data-label=\"Level 4 Count\">10</td>\n",
       "<td data-label=\"Level 4 Percent\">19%</td>\n",
       "<td data-label=\"Level 5 Count\">31</td>\n",
       "<td data-label=\"Level 5 Percent\">60%</td>\n",
       "<td data-label=\"Prof Count\">50</td>\n",
       "<td data-label=\"Prof Percent\">96%</td>\n",
       "</tr>\n",
       "<tr>\n",
       "<th data-label=\"Subgroup\">Not Economically Disadvantaged</th>\n",
       "<td data-label=\"Tested\">78</td>\n",
       "<td data-label=\"Level 1 Count\">0</td>\n",
       "<td data-label=\"Level 1 Percent\">0%</td>\n",
       "<td data-label=\"Level 2 Count\">1</td>\n",
       "<td data-label=\"Level 2 Percent\">1%</td>\n",
       "<td data-label=\"Level 3 Count\">6</td>\n",
       "<td data-label=\"Level 3 Percent\">8%</td>\n",
       "<td data-label=\"Level 4 Count\">11</td>\n",
       "<td data-label=\"Level 4 Percent\">14%</td>\n",
       "<td data-label=\"Level 5 Count\">60</td>\n",
       "<td data-label=\"Level 5 Percent\">77%</td>\n",
       "<td data-label=\"Prof Count\">77</td>\n",
       "<td data-label=\"Prof Percent\">99%</td>\n",
       "</tr>\n",
       "<tr>\n",
       "<th data-label=\"Subgroup\">Not Migrant</th>\n",
       "<td data-label=\"Tested\">130</td>\n",
       "<td data-label=\"Level 1 Count\">1</td>\n",
       "<td data-label=\"Level 1 Percent\">1%</td>\n",
       "<td data-label=\"Level 2 Count\">2</td>\n",
       "<td data-label=\"Level 2 Percent\">2%</td>\n",
       "<td data-label=\"Level 3 Count\">15</td>\n",
       "<td data-label=\"Level 3 Percent\">12%</td>\n",
       "<td data-label=\"Level 4 Count\">21</td>\n",
       "<td data-label=\"Level 4 Percent\">16%</td>\n",
       "<td data-label=\"Level 5 Count\">91</td>\n",
       "<td data-label=\"Level 5 Percent\">70%</td>\n",
       "<td data-label=\"Prof Count\">127</td>\n",
       "<td data-label=\"Prof Percent\">98%</td>\n",
       "</tr>\n",
       "<tr>\n",
       "<th data-label=\"Subgroup\">Homeless</th>\n",
       "<td data-label=\"Tested\">4</td>\n",
       "<td data-label=\"Level 1 Count\">—</td>\n",
       "<td data-label=\"Level 1 Percent\">—</td>\n",
       "<td data-label=\"Level 2 Count\">—</td>\n",
       "<td data-label=\"Level 2 Percent\">—</td>\n",
       "<td data-label=\"Level 3 Count\">—</td>\n",
       "<td data-label=\"Level 3 Percent\">—</td>\n",
       "<td data-label=\"Level 4 Count\">—</td>\n",
       "<td data-label=\"Level 4 Percent\">—</td>\n",
       "<td data-label=\"Level 5 Count\">—</td>\n",
       "<td data-label=\"Level 5 Percent\">—</td>\n",
       "<td data-label=\"Prof Count\">—</td>\n",
       "<td data-label=\"Prof Percent\">—</td>\n",
       "</tr>\n",
       "<tr>\n",
       "<th data-label=\"Subgroup\">Not Homeless</th>\n",
       "<td data-label=\"Tested\">126</td>\n",
       "<td data-label=\"Level 1 Count\">—</td>\n",
       "<td data-label=\"Level 1 Percent\">—</td>\n",
       "<td data-label=\"Level 2 Count\">—</td>\n",
       "<td data-label=\"Level 2 Percent\">—</td>\n",
       "<td data-label=\"Level 3 Count\">—</td>\n",
       "<td data-label=\"Level 3 Percent\">—</td>\n",
       "<td data-label=\"Level 4 Count\">—</td>\n",
       "<td data-label=\"Level 4 Percent\">—</td>\n",
       "<td data-label=\"Level 5 Count\">—</td>\n",
       "<td data-label=\"Level 5 Percent\">—</td>\n",
       "<td data-label=\"Prof Count\">—</td>\n",
       "<td data-label=\"Prof Percent\">—</td>\n",
       "</tr>\n",
       "<tr>\n",
       "<th data-label=\"Subgroup\">Not in Foster Care</th>\n",
       "<td data-label=\"Tested\">130</td>\n",
       "<td data-label=\"Level 1 Count\">1</td>\n",
       "<td data-label=\"Level 1 Percent\">1%</td>\n",
       "<td data-label=\"Level 2 Count\">2</td>\n",
       "<td data-label=\"Level 2 Percent\">2%</td>\n",
       "<td data-label=\"Level 3 Count\">15</td>\n",
       "<td data-label=\"Level 3 Percent\">12%</td>\n",
       "<td data-label=\"Level 4 Count\">21</td>\n",
       "<td data-label=\"Level 4 Percent\">16%</td>\n",
       "<td data-label=\"Level 5 Count\">91</td>\n",
       "<td data-label=\"Level 5 Percent\">70%</td>\n",
       "<td data-label=\"Prof Count\">127</td>\n",
       "<td data-label=\"Prof Percent\">98%</td>\n",
       "</tr>\n",
       "<tr>\n",
       "<th data-label=\"Subgroup\">Parent Not in Armed Forces</th>\n",
       "<td data-label=\"Tested\">130</td>\n",
       "<td data-label=\"Level 1 Count\">1</td>\n",
       "<td data-label=\"Level 1 Percent\">1%</td>\n",
       "<td data-label=\"Level 2 Count\">2</td>\n",
       "<td data-label=\"Level 2 Percent\">2%</td>\n",
       "<td data-label=\"Level 3 Count\">15</td>\n",
       "<td data-label=\"Level 3 Percent\">12%</td>\n",
       "<td data-label=\"Level 4 Count\">21</td>\n",
       "<td data-label=\"Level 4 Percent\">16%</td>\n",
       "<td data-label=\"Level 5 Count\">91</td>\n",
       "<td data-label=\"Level 5 Percent\">70%</td>\n",
       "<td data-label=\"Prof Count\">127</td>\n",
       "<td data-label=\"Prof Percent\">98%</td>\n",
       "</tr>\n",
       "</tbody>"
      ]
     },
     "execution_count": 98,
     "metadata": {},
     "output_type": "execute_result"
    }
   ],
   "source": [
    "regents_tables[0]"
   ]
  },
  {
   "cell_type": "code",
   "execution_count": null,
   "metadata": {},
   "outputs": [],
   "source": []
  },
  {
   "cell_type": "code",
   "execution_count": null,
   "metadata": {},
   "outputs": [],
   "source": [
    "for thing in regeants_tables:\n",
    "    thing.select('th[data-label=\"Subgroup\"]')[0]"
   ]
  },
  {
   "cell_type": "code",
   "execution_count": null,
   "metadata": {},
   "outputs": [],
   "source": []
  },
  {
   "cell_type": "code",
   "execution_count": null,
   "metadata": {},
   "outputs": [],
   "source": []
  }
 ],
 "metadata": {
  "kernelspec": {
   "display_name": "Python 3",
   "language": "python",
   "name": "python3"
  },
  "language_info": {
   "codemirror_mode": {
    "name": "ipython",
    "version": 3
   },
   "file_extension": ".py",
   "mimetype": "text/x-python",
   "name": "python",
   "nbconvert_exporter": "python",
   "pygments_lexer": "ipython3",
   "version": "3.7.1"
  }
 },
 "nbformat": 4,
 "nbformat_minor": 2
}
